{
 "cells": [
  {
   "cell_type": "markdown",
   "metadata": {},
   "source": [
    "# 37. Оценка внутреннего коэффициента воспроизводства. Решение нелинейного уравнения"
   ]
  },
  {
   "cell_type": "code",
   "execution_count": 28,
   "metadata": {},
   "outputs": [],
   "source": [
    "import numpy as np\n",
    "import matplotlib.pyplot as plt\n",
    "from scipy.optimize import brentq"
   ]
  },
  {
   "cell_type": "code",
   "execution_count": 29,
   "metadata": {},
   "outputs": [],
   "source": [
    "t=[4.5, 5.5, 6.5, 7.5, 8.5, 9.5, 10.5, 11.5, 12.5, 13.5, 14.5, 15.5, 16.5, 17.5, 18.5]\n",
    "l=[0.87, 0.83, 0.81, 0.80, 0.79, 0.77, 0.74, 0.66, 0.59, 0.52, 0.45, 0.36, 0.29, 0.25, 0.19]\n",
    "m=[20.0, 23.0, 15.0, 12.5, 12.5, 14.0, 12.5, 14.5, 11.0, 9.5, 2.5, 2.5, 2.5, 4.0, 1.0]"
   ]
  },
  {
   "cell_type": "markdown",
   "metadata": {},
   "source": [
    "|t||l_t||m_t|\n",
    "|----||----||----|\n",
    "|4.5 ||0.87||20.0|\n",
    "|5.5 ||0.83||23.0|\n",
    "|6.5 ||0.81||15.0|\n",
    "|7.5 ||0.80||12.5|\n",
    "|8.5 ||0.79||12.5|\n",
    "|9.5 ||0.77||14.0|\n",
    "|10.5||0.74||12.5|\n",
    "|11.5||0.66||14.5|\n",
    "|12.5||0.59||11.0|\n",
    "|13.5||0.52||9.5|\n",
    "|14.5||0.45||2.5|\n",
    "|15.5||0.36||2.5|\n",
    "|16.5||0.29||2.5|\n",
    "|17.5||0.25||4.0|\n",
    "|18.5||0.19||1.0|"
   ]
  },
  {
   "cell_type": "code",
   "execution_count": 30,
   "metadata": {},
   "outputs": [
    {
     "name": "stdout",
     "output_type": "stream",
     "text": [
      "Чистый коэффицент производства=113.48499999999997\n"
     ]
    }
   ],
   "source": [
    "R0=0\n",
    "i=0\n",
    "while i<15:\n",
    "    R0=R0+l[i]*m[i]\n",
    "    i=i+1\n",
    "print(f\"Чистый коэффицент производства={R0}\")\n",
    "#В данном случае используется цикл while и точное количество t (которое в данной задаче равно 15)"
   ]
  },
  {
   "cell_type": "markdown",
   "metadata": {},
   "source": [
    "Более универсальный случай можно сделать через for i in range"
   ]
  },
  {
   "cell_type": "code",
   "execution_count": 31,
   "metadata": {},
   "outputs": [
    {
     "name": "stdout",
     "output_type": "stream",
     "text": [
      "Чистый коэффицент производства=113.48499999999997\n"
     ]
    }
   ],
   "source": [
    "R0=0\n",
    "i=1\n",
    "for i in range(len(t)):\n",
    "    R0=R0+l[i]*m[i]\n",
    "print(f\"Чистый коэффицент производства={R0}\")"
   ]
  },
  {
   "cell_type": "markdown",
   "metadata": {},
   "source": [
    "Дальше мы должны построить график данной левой функции"
   ]
  },
  {
   "cell_type": "code",
   "execution_count": 51,
   "metadata": {},
   "outputs": [
    {
     "data": {
      "image/png": "[encoded data removed]",
      "text/plain": [
       "<Figure size 432x288 with 1 Axes>"
      ]
     },
     "metadata": {
      "needs_background": "light"
     },
     "output_type": "display_data"
    }
   ],
   "source": [
    "# r - массив значений внутреннего коэффициента естественной репродукции\n",
    "r = np.linspace(0.5, 1, 500)\n",
    "# f - массив, в который будем записывать значения функции на соответствующем элементе массива r и который будет равняться левой функции\n",
    "f = np.linspace(0, 0, 500)\n",
    "\n",
    "# для каждого r считаем значение функции f\n",
    "for i in range(len(f)):\n",
    "    for j in range(len(t)):\n",
    "        f[i] = f[i]+np.exp(-r[i] * t[j]) * l[j] * m[j]\n",
    "\n",
    "# объявляем объект для присвания графика\n",
    "Graphic = plt.figure()\n",
    "# добавляем сетку\n",
    "ax = Graphic.add_subplot(1, 1, 1)\n",
    "ax.grid(which='both')\n",
    "# добавляем график левой функции\n",
    "line1 = ax.plot(r, f, label='f=f+exp^(-r*t)*l*t')\n",
    "# подписываем оси ox и oy\n",
    "plt.xlabel(\"r\")\n",
    "plt.ylabel(\"f(x)\")\n",
    "# добавляем легенду графика функции\n",
    "ax.legend()\n",
    "# выводим график\n",
    "plt.show()"
   ]
  },
  {
   "cell_type": "markdown",
   "metadata": {},
   "source": [
    "Дальше создаем функцию для определения внутреннего коэффициента"
   ]
  },
  {
   "cell_type": "code",
   "execution_count": 54,
   "metadata": {},
   "outputs": [],
   "source": [
    "def func(x):\n",
    "    # иниициализируем переменную для нахождения r через R0\n",
    "    p = 0\n",
    "    for j in range(len(t)):\n",
    "        # для каждого возраста находим значение выражения согласно формуле и суммируем эти значения\n",
    "        p =p+np.exp(-x * t[j]) * l[j] * m[j]\n",
    "    p -= 1\n",
    "    return p"
   ]
  },
  {
   "cell_type": "code",
   "execution_count": 55,
   "metadata": {},
   "outputs": [
    {
     "name": "stdout",
     "output_type": "stream",
     "text": [
      "внутренний коэффициент естественной репродукции r =  0.7619840766979892\n"
     ]
    }
   ],
   "source": [
    "print(\"внутренний коэффициент естественной репродукции r = \",brentq(func, a=0.5, b=1))"
   ]
  },
  {
   "cell_type": "markdown",
   "metadata": {},
   "source": [
    "Вывод:В работе, проведенной над статьей из \n",
    "    [Birch L.C. The intrinsic rate of natural increase of an insect population. The Journal of Animal Ecology (1948): 15-26],\n",
    "нужно было высчитать коэффицент естественной репродукции особей рисового жука долгоносика с учетом проведенных исследований.\n",
    " Используя формулу   $$R_0 = \\sum_{t} l_t m_t$$, где \n",
    "    $t$ - возраст в неделях\n",
    "    $l_t$ - вероятность дожития до этого возраста\n",
    "    $m_t$ - среднее число потомков женского пола, рожденных одной особью в этом возрасте \n",
    "для определения чистого коэффицента воспроизводства (при неизменяемых условиях), и получили, что R0=113.5 (или точнее 113.48)\n",
    "Дальше для получения внутреннего коэффицента естественной репродукции r, мы построили график левой функции$$\\sum_t e^{-rt} l_t m_t = 1.$$\n",
    "После этого, используя scipy.optimize.brentq. мы решили данное нелинейное уравнение и получили значение r, которое равно 0.762 (или более точное число 0.76198)"
   ]
  },
  {
   "cell_type": "code",
   "execution_count": null,
   "metadata": {},
   "outputs": [],
   "source": []
  }
 ],
 "metadata": {
  "kernelspec": {
   "display_name": "Python 3",
   "language": "python",
   "name": "python3"
  },
  "language_info": {
   "codemirror_mode": {
    "name": "ipython",
    "version": 3
   },
   "file_extension": ".py",
   "mimetype": "text/x-python",
   "name": "python",
   "nbconvert_exporter": "python",
   "pygments_lexer": "ipython3",
   "version": "3.8.5"
  }
 },
 "nbformat": 4,
 "nbformat_minor": 4
}
